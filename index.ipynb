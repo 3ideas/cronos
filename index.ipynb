{
 "cells": [
  {
   "cell_type": "code",
   "execution_count": null,
   "metadata": {},
   "outputs": [],
   "source": [
    "#hide\n",
    "from cronos.convert_time_log import *"
   ]
  },
  {
   "cell_type": "markdown",
   "metadata": {},
   "source": [
    "# Cronos\n",
    "\n",
    "> A set of utilities to logs with time data in it and convert to trace event file format for "
   ]
  },
  {
   "cell_type": "markdown",
   "metadata": {},
   "source": [
    "\n",
    "A very nice viewer for the trace event file can be found here https://ui.perfetto.dev/\n",
    "\n",
    "![Example screenshot](/assets/Screenshort1.png)\n",
    "\n",
    "\n",
    "Format for the time event file can be found here https://docs.google.com/document/d/1CvAClvFfyA5R-PhYUmn5OOQtYMH4h6I0nSsKchNAySU/preview\n"
   ]
  },
  {
   "cell_type": "markdown",
   "metadata": {},
   "source": [
    "## Install"
   ]
  },
  {
   "cell_type": "markdown",
   "metadata": {},
   "source": [
    "`pip install 3ideas/cronos`\n",
    "\n",
    "Or just download the cronos directory. "
   ]
  },
  {
   "cell_type": "markdown",
   "metadata": {},
   "source": [
    "## How to use"
   ]
  },
  {
   "cell_type": "markdown",
   "metadata": {},
   "source": [
    "Examples of use,\n",
    "\n",
    "This will generate a trace event file with the name `logs/ADMSClientTiming_07_12_2021.json`\n",
    "```\n",
    "python cronos/convert_time_log.py -f logs/ADMSClientTiming_07_12_2021.log\n",
    "```\n",
    "\n",
    "To name the output file,\n",
    "```\n",
    "python cronos/convert_time_log.py -f logs/ADMSClientTiming_07_12_2021.log -o example.json\n",
    "```\n",
    "\n",
    "And to output to stdout\n",
    "```\n",
    "python cronos/convert_time_log.py -f logs/ADMSClientTiming_07_12_2021.log -s \n",
    "```"
   ]
  },
  {
   "cell_type": "code",
   "execution_count": null,
   "metadata": {},
   "outputs": [
    {
     "data": {
      "text/plain": [
       "2"
      ]
     },
     "execution_count": null,
     "metadata": {},
     "output_type": "execute_result"
    }
   ],
   "source": [
    "1+1"
   ]
  },
  {
   "cell_type": "code",
   "execution_count": null,
   "metadata": {},
   "outputs": [],
   "source": []
  }
 ],
 "metadata": {
  "kernelspec": {
   "display_name": "Python 3",
   "language": "python",
   "name": "python3"
  }
 },
 "nbformat": 4,
 "nbformat_minor": 2
}
