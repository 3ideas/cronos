{
 "cells": [
  {
   "cell_type": "code",
   "execution_count": 1,
   "metadata": {},
   "outputs": [],
   "source": [
    "#hide\n"
   ]
  },
  {
   "cell_type": "markdown",
   "metadata": {},
   "source": [
    "# Cronos\n",
    "\n",
    "> A set of utilities to logs with time data in it and convert to trace event file format for a certain ADMS client timing log files and apache httpd access logs."
   ]
  },
  {
   "cell_type": "markdown",
   "metadata": {},
   "source": [
    "\n",
    "A very nice viewer for the trace event file can be found here https://ui.perfetto.dev/\n",
    "\n",
    "![Example screenshot](assets/Screenshot1.png)\n",
    "\n",
    "\n",
    "Format for the time event file can be found here https://docs.google.com/document/d/1CvAClvFfyA5R-PhYUmn5OOQtYMH4h6I0nSsKchNAySU/preview\n"
   ]
  },
  {
   "cell_type": "markdown",
   "metadata": {},
   "source": [
    "## Install"
   ]
  },
  {
   "cell_type": "markdown",
   "metadata": {},
   "source": [
    "The scipt can be found in cronos/convert_time_log.py  it shouldn't have dependencies outside the standard python libraries.\n"
   ]
  },
  {
   "cell_type": "markdown",
   "metadata": {},
   "source": [
    "## How to use"
   ]
  },
  {
   "cell_type": "markdown",
   "metadata": {},
   "source": [
    "Examples of use,\n",
    "\n",
    "This will generate a trace event file with the name `logs/ADMSClientTiming_07_12_2021.json`\n",
    "```\n",
    "python cronos/convert_time_log.py -f logs/ADMSClientTiming_07_12_2021.log\n",
    "```\n",
    "\n",
    "To name the output file,\n",
    "```\n",
    "python cronos/convert_time_log.py -f logs/ADMSClientTiming_07_12_2021.log -o example.json\n",
    "```\n",
    "\n",
    "And to output to stdout\n",
    "```\n",
    "python cronos/convert_time_log.py -f logs/ADMSClientTiming_07_12_2021.log -s \n",
    "```\n",
    "\n",
    "For apache httpd logs\n",
    "```\n",
    "python cronos/convert_time_log.py -a logs/access.log.2021-12-03 -o access.log.2021-12-03.json\n",
    "```\n",
    "\n",
    "Then open and load the generated json file into the viewer at https://ui.perfetto.dev/"
   ]
  },
  {
   "cell_type": "code",
   "execution_count": 2,
   "metadata": {},
   "outputs": [],
   "source": [
    "#hide\n",
    "# remember to run nbdev_build_docs to generate the docs and update this in the README.md"
   ]
  },
  {
   "cell_type": "markdown",
   "metadata": {},
   "source": [
    "## Perfetto Queries"
   ]
  },
  {
   "cell_type": "markdown",
   "metadata": {},
   "source": [
    "\n",
    "When traces are loaded into the perfetto viewer, you can use the  Query(SQL) tool to filter on the trace data.\n",
    "\n",
    "There seems to be two main tables created at loaded, __slice__ and __args__, there may be more but have not looked at them.\n",
    "\n",
    "**__slice__** holds the event data and **__args__** holds all the parameters, joint on them using  **arg_set_id**\n",
    "\n",
    "\n",
    "Note **__dur__** is in nano seconds, divide by 10^9 to get seconds.\n",
    "\n",
    "### Example Queries\n",
    "\n",
    "All events matching a specific name,\n",
    "\n",
    "```\n",
    "select name, dur/1000000000.0,cat,a.string_value as event_time from slice s,args a where s.arg_set_id = a.arg_set_id  and\n",
    "name like '/enmac/alarmevent%'\n",
    "and a.flat_key = 'args.start';\n",
    "```\n",
    "|name|dur/1000000000.0|cat|event_time|\n",
    "|----|----|----|---------|\n",
    "|/enmac/alarmevent/config|1.978688|CreateDataSet|2021-12-07T17:46:23.902474+00:00|\n",
    "|/enmac/alarmevent/defaultOwnershipFilter|0.239686|CreateDataSet|2021-12-07T17:46:25.915164+00:00|\n",
    "|/enmac/alarmevent/alarms|2.348028|CreateDataSet|2021-12-07T17:46:28.903655+00:00|\n",
    "|/enmac/alarmevent/config|0.672015|CreateDataSet|2021-12-07T17:46:28.903655+00:00|\n",
    "|/enmac/alarmevent/defaultOwnershipFilter|0.220828|CreateDataSet|2021-12-07T17:46:29.612597+00:00|\n",
    "|/enmac/alarmevent/config|1.4059788|CreateDataSet|2021-12-07T17:46:29.880425+00:00|\n",
    "|/enmac/alarmevent/defaultOwnershipFilter|0.2460132|CreateDataSet|2021-12-07T17:46:31.332394+00:00|\n",
    "|/enmac/alarmevent/config|0.628001|CreateDataSet|2021-12-07T17:46:40.043329+00:00|\n",
    "|/enmac/alarmevent/defaultOwnershipFilter|0.2149871|CreateDataSet|2021-12-07T17:46:40.711331+00:00|\n",
    "|/enmac/alarmevent/config|0.30245|CreateDataSet|2021-12-07T17:46:40.980319+00:00|\n",
    "\n",
    "finding the max or min of a specific event name.\n",
    "```\n",
    "select max(dur)/1000000000.0,min(dur)/1000000000.0 from slice where name like '/enmac/alarmevent%';\n",
    "```\n",
    "|max(dur)/1000000000.0|min(dur)/1000000000.0|\n",
    "|----|----|\n",
    "|2.348028|0.2136729|\n",
    "\n",
    "Select the thing that takes the longest time\n",
    "\n",
    "```\n",
    "select name,dur/1000000000.0,cat,string_value as event_time from slice s,args a \n",
    "where dur in (select  max(dur) from slice) and \n",
    "s.arg_set_id = a.arg_set_id and \n",
    "flat_key ='args.start';\n",
    "```\n",
    "|name|dur/1000000000.0|cat|event_time|\n",
    "|----|----|-----|------|\n",
    "|/enmac/swex/outages|100.025012|CreateDataSet|2021-12-07T17:54:12.262573+00:00|\n",
    "|https://trn1nms/enmac/swex/outages|100.025012|HttpWebRequest|2021-12-07T17:54:12.262573+00:00|\n",
    "\n",
    "\n",
    "select all events where serverCPU is greater than 0.05seconds\n",
    "```\n",
    "select distinct name,dur/1000000000.0 as 'duration(s)',category,real_value as serverCPU from \n",
    "slice s,args a \n",
    "where \n",
    "s.arg_set_id = a.arg_set_id and\n",
    "key = 'args.serverCPU' and real_value > 0.05;\n",
    "```\n",
    "|name|duration(s)|category|serverCPU|\n",
    "|----|----------|--------|--------|\n",
    "|https://trn1nms/enmac/alarmevent/config|0.999992|HttpWebRequest|0.0703|\n",
    "|https://trn1nms/enmac/alarmevent/alarms|2.1509|HttpWebRequest|0.0656|\n",
    "|https://trn1nms/enmac/jobs/jobOperativeDetails|5.602695|HttpWebRequest|0.1953|"
   ]
  },
  {
   "cell_type": "markdown",
   "metadata": {},
   "source": [
    "## perfectto pivot tables\n",
    "\n",
    "Enable this feature in the __Support__ section on the LHS under __flags__\n",
    "\n",
    "\n",
    "![pivot table query screenshot](assets/Pivot_query.png)\n",
    "\n",
    "results in a pivot table with the following columns\n",
    "\n",
    "![Pivot table screenshot](assets/pivot_table.png)\n"
   ]
  },
  {
   "cell_type": "markdown",
   "metadata": {},
   "source": [
    "# Developing\n",
    "\n",
    "The script has been developed with nbdev as the markup/test env. See https://nbdev.fast.ai/tutorial.html for more information.\n",
    "\n",
    "Contributions are welcome.\n"
   ]
  },
  {
   "cell_type": "markdown",
   "metadata": {},
   "source": [
    "# License\n",
    "\n",
    "Copyright 2021-present Bill Traill 3ideas.co.uk. Released under the terms of the MIT license.\n",
    "\n",
    "If you're using the library in a commercial enviroment or product, please consider sponsoring its development or paying for maintenace of it. Contact bill@3ideas.co.uk"
   ]
  },
  {
   "cell_type": "code",
   "execution_count": 3,
   "metadata": {},
   "outputs": [],
   "source": [
    "#hide\n",
    "\n",
    "# Remember to run nbdev_build_docs to build the README!!"
   ]
  }
 ],
 "metadata": {
  "kernelspec": {
   "display_name": "Python 3",
   "language": "python",
   "name": "python3"
  },
  "language_info": {
   "codemirror_mode": {
    "name": "ipython",
    "version": 3
   },
   "file_extension": ".py",
   "mimetype": "text/x-python",
   "name": "python",
   "nbconvert_exporter": "python",
   "pygments_lexer": "ipython3",
   "version": "3.8.5"
  }
 },
 "nbformat": 4,
 "nbformat_minor": 2
}
